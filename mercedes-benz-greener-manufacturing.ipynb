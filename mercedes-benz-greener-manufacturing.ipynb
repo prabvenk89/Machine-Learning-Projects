{
 "cells": [
  {
   "cell_type": "markdown",
   "metadata": {
    "papermill": {
     "duration": 0.021034,
     "end_time": "2022-05-05T13:20:04.483874",
     "exception": false,
     "start_time": "2022-05-05T13:20:04.462840",
     "status": "completed"
    },
    "tags": []
   },
   "source": [
    "## Competition [Mercedes-Benz Greener Manufacturing](https://www.kaggle.com/competitions/mercedes-benz-greener-manufacturing)"
   ]
  },
  {
   "cell_type": "markdown",
   "metadata": {
    "papermill": {
     "duration": 0.020739,
     "end_time": "2022-05-05T13:20:04.524341",
     "exception": false,
     "start_time": "2022-05-05T13:20:04.503602",
     "status": "completed"
    },
    "tags": []
   },
   "source": [
    "<img src=\"https://images.unsplash.com/photo-1630596369706-57eaf9ba7cae?ixlib=rb-1.2.1&ixid=MnwxMjA3fDB8MHxwaG90by1wYWdlfHx8fGVufDB8fHx8&auto=format&fit=crop&w=3570&q=80:*\" width=\"600px\">"
   ]
  },
  {
   "cell_type": "markdown",
   "metadata": {
    "papermill": {
     "duration": 0.019575,
     "end_time": "2022-05-05T13:20:04.563661",
     "exception": false,
     "start_time": "2022-05-05T13:20:04.544086",
     "status": "completed"
    },
    "tags": []
   },
   "source": [
    "<a class=\"anchor\" id=\"0.1\"></a>\n",
    "# Table of Contents\n",
    "\n",
    "1. [Import libraries](#1)\n",
    "1. [Download data](#2)\n",
    "1. [EDA](#3)"
   ]
  },
  {
   "cell_type": "markdown",
   "metadata": {
    "papermill": {
     "duration": 0.019179,
     "end_time": "2022-05-05T13:20:04.602149",
     "exception": false,
     "start_time": "2022-05-05T13:20:04.582970",
     "status": "completed"
    },
    "tags": []
   },
   "source": [
    "## 1. Import libraries<a class=\"anchor\" id=\"1\"></a>\n",
    "\n",
    "[Back to Table of Contents](#0.1)"
   ]
  },
  {
   "cell_type": "code",
   "execution_count": 1,
   "metadata": {
    "_cell_guid": "b1076dfc-b9ad-4769-8c92-a6c4dae69d19",
    "_uuid": "8f2839f25d086af736a60e9eeb907d3b93b6e0e5",
    "execution": {
     "iopub.execute_input": "2022-05-05T13:20:04.648531Z",
     "iopub.status.busy": "2022-05-05T13:20:04.647685Z",
     "iopub.status.idle": "2022-05-05T13:20:05.683894Z",
     "shell.execute_reply": "2022-05-05T13:20:05.683135Z",
     "shell.execute_reply.started": "2022-05-05T12:47:08.648858Z"
    },
    "papermill": {
     "duration": 1.062456,
     "end_time": "2022-05-05T13:20:05.684030",
     "exception": false,
     "start_time": "2022-05-05T13:20:04.621574",
     "status": "completed"
    },
    "tags": []
   },
   "outputs": [],
   "source": [
    "# Work with Data\n",
    "import numpy as np \n",
    "import pandas as pd\n",
    "\n",
    "# Visualization\n",
    "import seaborn as sns\n",
    "import matplotlib.pyplot as plt\n",
    "\n",
    "# Modeling and Prediction\n",
    "from sklearn.preprocessing import LabelEncoder\n",
    "\n",
    "# Helpers\n",
    "import os\n",
    "import warnings\n",
    "warnings.filterwarnings(\"ignore\")\n",
    "\n",
    "%matplotlib inline"
   ]
  },
  {
   "cell_type": "code",
   "execution_count": 2,
   "metadata": {
    "execution": {
     "iopub.execute_input": "2022-05-05T13:20:05.729193Z",
     "iopub.status.busy": "2022-05-05T13:20:05.728424Z",
     "iopub.status.idle": "2022-05-05T13:20:05.808245Z",
     "shell.execute_reply": "2022-05-05T13:20:05.808775Z",
     "shell.execute_reply.started": "2022-05-05T12:53:23.674488Z"
    },
    "papermill": {
     "duration": 0.105564,
     "end_time": "2022-05-05T13:20:05.808931",
     "exception": false,
     "start_time": "2022-05-05T13:20:05.703367",
     "status": "completed"
    },
    "tags": []
   },
   "outputs": [
    {
     "data": {
      "image/png": "[encoded data removed]",
      "text/plain": [
       "<Figure size 288x72 with 1 Axes>"
      ]
     },
     "metadata": {
      "needs_background": "light"
     },
     "output_type": "display_data"
    }
   ],
   "source": [
    "colors = ['#b8e994','#78e08f','#38ada9','#079992']\n",
    "sns.palplot(sns.color_palette(colors))"
   ]
  },
  {
   "cell_type": "markdown",
   "metadata": {
    "papermill": {
     "duration": 0.02043,
     "end_time": "2022-05-05T13:20:05.849798",
     "exception": false,
     "start_time": "2022-05-05T13:20:05.829368",
     "status": "completed"
    },
    "tags": []
   },
   "source": [
    "## 2. Download data<a class=\"anchor\" id=\"2\"></a>\n",
    "\n",
    "[Back to Table of Contents](#0.1)"
   ]
  },
  {
   "cell_type": "code",
   "execution_count": 3,
   "metadata": {
    "_cell_guid": "79c7e3d0-c299-4dcb-8224-4455121ee9b0",
    "_uuid": "d629ff2d2480ee46fbb7e2d37f6b5fab8052498a",
    "execution": {
     "iopub.execute_input": "2022-05-05T13:20:05.893887Z",
     "iopub.status.busy": "2022-05-05T13:20:05.893200Z",
     "iopub.status.idle": "2022-05-05T13:20:06.216778Z",
     "shell.execute_reply": "2022-05-05T13:20:06.216146Z",
     "shell.execute_reply.started": "2022-05-05T12:47:09.794655Z"
    },
    "papermill": {
     "duration": 0.346397,
     "end_time": "2022-05-05T13:20:06.216958",
     "exception": false,
     "start_time": "2022-05-05T13:20:05.870561",
     "status": "completed"
    },
    "tags": []
   },
   "outputs": [
    {
     "name": "stdout",
     "output_type": "stream",
     "text": [
      "Train shape :  (4209, 378)\n",
      "Test shape :  (4209, 377)\n"
     ]
    }
   ],
   "source": [
    "train = pd.read_csv('../input/mercedes-benz-greener-manufacturing/train.csv.zip')\n",
    "test = pd.read_csv('../input/mercedes-benz-greener-manufacturing/test.csv.zip')\n",
    "sub = pd.read_csv('../input/mercedes-benz-greener-manufacturing/sample_submission.csv.zip')\n",
    "\n",
    "print(\"Train shape : \", train.shape)\n",
    "print(\"Test shape : \", test.shape)"
   ]
  },
  {
   "cell_type": "code",
   "execution_count": 4,
   "metadata": {
    "execution": {
     "iopub.execute_input": "2022-05-05T13:20:06.274899Z",
     "iopub.status.busy": "2022-05-05T13:20:06.273693Z",
     "iopub.status.idle": "2022-05-05T13:20:06.304859Z",
     "shell.execute_reply": "2022-05-05T13:20:06.304331Z",
     "shell.execute_reply.started": "2022-05-05T12:47:10.175369Z"
    },
    "papermill": {
     "duration": 0.060442,
     "end_time": "2022-05-05T13:20:06.304994",
     "exception": false,
     "start_time": "2022-05-05T13:20:06.244552",
     "status": "completed"
    },
    "tags": []
   },
   "outputs": [
    {
     "data": {
      "text/html": [
       "<div>\n",
       "<style scoped>\n",
       "    .dataframe tbody tr th:only-of-type {\n",
       "        vertical-align: middle;\n",
       "    }\n",
       "\n",
       "    .dataframe tbody tr th {\n",
       "        vertical-align: top;\n",
       "    }\n",
       "\n",
       "    .dataframe thead th {\n",
       "        text-align: right;\n",
       "    }\n",
       "</style>\n",
       "<table border=\"1\" class=\"dataframe\">\n",
       "  <thead>\n",
       "    <tr style=\"text-align: right;\">\n",
       "      <th></th>\n",
       "      <th>ID</th>\n",
       "      <th>y</th>\n",
       "      <th>X0</th>\n",
       "      <th>X1</th>\n",
       "      <th>X2</th>\n",
       "      <th>X3</th>\n",
       "      <th>X4</th>\n",
       "      <th>X5</th>\n",
       "      <th>X6</th>\n",
       "      <th>X8</th>\n",
       "      <th>...</th>\n",
       "      <th>X375</th>\n",
       "      <th>X376</th>\n",
       "      <th>X377</th>\n",
       "      <th>X378</th>\n",
       "      <th>X379</th>\n",
       "      <th>X380</th>\n",
       "      <th>X382</th>\n",
       "      <th>X383</th>\n",
       "      <th>X384</th>\n",
       "      <th>X385</th>\n",
       "    </tr>\n",
       "  </thead>\n",
       "  <tbody>\n",
       "    <tr>\n",
       "      <th>0</th>\n",
       "      <td>0</td>\n",
       "      <td>130.81</td>\n",
       "      <td>k</td>\n",
       "      <td>v</td>\n",
       "      <td>at</td>\n",
       "      <td>a</td>\n",
       "      <td>d</td>\n",
       "      <td>u</td>\n",
       "      <td>j</td>\n",
       "      <td>o</td>\n",
       "      <td>...</td>\n",
       "      <td>0</td>\n",
       "      <td>0</td>\n",
       "      <td>1</td>\n",
       "      <td>0</td>\n",
       "      <td>0</td>\n",
       "      <td>0</td>\n",
       "      <td>0</td>\n",
       "      <td>0</td>\n",
       "      <td>0</td>\n",
       "      <td>0</td>\n",
       "    </tr>\n",
       "    <tr>\n",
       "      <th>1</th>\n",
       "      <td>6</td>\n",
       "      <td>88.53</td>\n",
       "      <td>k</td>\n",
       "      <td>t</td>\n",
       "      <td>av</td>\n",
       "      <td>e</td>\n",
       "      <td>d</td>\n",
       "      <td>y</td>\n",
       "      <td>l</td>\n",
       "      <td>o</td>\n",
       "      <td>...</td>\n",
       "      <td>1</td>\n",
       "      <td>0</td>\n",
       "      <td>0</td>\n",
       "      <td>0</td>\n",
       "      <td>0</td>\n",
       "      <td>0</td>\n",
       "      <td>0</td>\n",
       "      <td>0</td>\n",
       "      <td>0</td>\n",
       "      <td>0</td>\n",
       "    </tr>\n",
       "    <tr>\n",
       "      <th>2</th>\n",
       "      <td>7</td>\n",
       "      <td>76.26</td>\n",
       "      <td>az</td>\n",
       "      <td>w</td>\n",
       "      <td>n</td>\n",
       "      <td>c</td>\n",
       "      <td>d</td>\n",
       "      <td>x</td>\n",
       "      <td>j</td>\n",
       "      <td>x</td>\n",
       "      <td>...</td>\n",
       "      <td>0</td>\n",
       "      <td>0</td>\n",
       "      <td>0</td>\n",
       "      <td>0</td>\n",
       "      <td>0</td>\n",
       "      <td>0</td>\n",
       "      <td>1</td>\n",
       "      <td>0</td>\n",
       "      <td>0</td>\n",
       "      <td>0</td>\n",
       "    </tr>\n",
       "    <tr>\n",
       "      <th>3</th>\n",
       "      <td>9</td>\n",
       "      <td>80.62</td>\n",
       "      <td>az</td>\n",
       "      <td>t</td>\n",
       "      <td>n</td>\n",
       "      <td>f</td>\n",
       "      <td>d</td>\n",
       "      <td>x</td>\n",
       "      <td>l</td>\n",
       "      <td>e</td>\n",
       "      <td>...</td>\n",
       "      <td>0</td>\n",
       "      <td>0</td>\n",
       "      <td>0</td>\n",
       "      <td>0</td>\n",
       "      <td>0</td>\n",
       "      <td>0</td>\n",
       "      <td>0</td>\n",
       "      <td>0</td>\n",
       "      <td>0</td>\n",
       "      <td>0</td>\n",
       "    </tr>\n",
       "    <tr>\n",
       "      <th>4</th>\n",
       "      <td>13</td>\n",
       "      <td>78.02</td>\n",
       "      <td>az</td>\n",
       "      <td>v</td>\n",
       "      <td>n</td>\n",
       "      <td>f</td>\n",
       "      <td>d</td>\n",
       "      <td>h</td>\n",
       "      <td>d</td>\n",
       "      <td>n</td>\n",
       "      <td>...</td>\n",
       "      <td>0</td>\n",
       "      <td>0</td>\n",
       "      <td>0</td>\n",
       "      <td>0</td>\n",
       "      <td>0</td>\n",
       "      <td>0</td>\n",
       "      <td>0</td>\n",
       "      <td>0</td>\n",
       "      <td>0</td>\n",
       "      <td>0</td>\n",
       "    </tr>\n",
       "  </tbody>\n",
       "</table>\n",
       "<p>5 rows × 378 columns</p>\n",
       "</div>"
      ],
      "text/plain": [
       "   ID       y  X0 X1  X2 X3 X4 X5 X6 X8  ...  X375  X376  X377  X378  X379  \\\n",
       "0   0  130.81   k  v  at  a  d  u  j  o  ...     0     0     1     0     0   \n",
       "1   6   88.53   k  t  av  e  d  y  l  o  ...     1     0     0     0     0   \n",
       "2   7   76.26  az  w   n  c  d  x  j  x  ...     0     0     0     0     0   \n",
       "3   9   80.62  az  t   n  f  d  x  l  e  ...     0     0     0     0     0   \n",
       "4  13   78.02  az  v   n  f  d  h  d  n  ...     0     0     0     0     0   \n",
       "\n",
       "   X380  X382  X383  X384  X385  \n",
       "0     0     0     0     0     0  \n",
       "1     0     0     0     0     0  \n",
       "2     0     1     0     0     0  \n",
       "3     0     0     0     0     0  \n",
       "4     0     0     0     0     0  \n",
       "\n",
       "[5 rows x 378 columns]"
      ]
     },
     "execution_count": 4,
     "metadata": {},
     "output_type": "execute_result"
    }
   ],
   "source": [
    "train.head()"
   ]
  },
  {
   "cell_type": "markdown",
   "metadata": {
    "papermill": {
     "duration": 0.020444,
     "end_time": "2022-05-05T13:20:06.346442",
     "exception": false,
     "start_time": "2022-05-05T13:20:06.325998",
     "status": "completed"
    },
    "tags": []
   },
   "source": [
    "## 3. EDA <a class=\"anchor\" id=\"3\"></a>\n",
    "[Back to Table of Contents](#0.1)"
   ]
  },
  {
   "cell_type": "markdown",
   "metadata": {
    "papermill": {
     "duration": 0.031262,
     "end_time": "2022-05-05T13:20:06.406030",
     "exception": false,
     "start_time": "2022-05-05T13:20:06.374768",
     "status": "completed"
    },
    "tags": []
   },
   "source": [
    "### Task description\n",
    "\n",
    "The objective of the competition is **to predict the time** required to complete the testing phase.<br>\n",
    "The dataset represents various permutations of the characteristics of Mercedes-Benz vehicles.<br>\n",
    "Reducing the running time of the algorithm could also help reduce carbon emissions without compromising Daimler's standards.<br>\n",
    "\n",
    "The data set contains an anonymized set of variables (user functions) in a Mercedes vehicle.<br>\n",
    "For example, a variable could be 4WD, it could be an added air suspension or a head-up display.\n",
    "\n",
    "***y*** is the variable to be predicted, that is the time (in seconds) it took the car to pass the test for each variable\n",
    "\n",
    "Variables containing letters - **categorical**.<br>\n",
    "Variables with 0/1 - **binary**."
   ]
  },
  {
   "cell_type": "markdown",
   "metadata": {
    "papermill": {
     "duration": 0.024512,
     "end_time": "2022-05-05T13:20:06.454153",
     "exception": false,
     "start_time": "2022-05-05T13:20:06.429641",
     "status": "completed"
    },
    "tags": []
   },
   "source": [
    "### 2.1 Target variable analysis"
   ]
  },
  {
   "cell_type": "code",
   "execution_count": 5,
   "metadata": {
    "execution": {
     "iopub.execute_input": "2022-05-05T13:20:06.507117Z",
     "iopub.status.busy": "2022-05-05T13:20:06.506018Z",
     "iopub.status.idle": "2022-05-05T13:20:06.835477Z",
     "shell.execute_reply": "2022-05-05T13:20:06.834877Z",
     "shell.execute_reply.started": "2022-05-05T12:57:33.430580Z"
    },
    "papermill": {
     "duration": 0.359022,
     "end_time": "2022-05-05T13:20:06.835595",
     "exception": false,
     "start_time": "2022-05-05T13:20:06.476573",
     "status": "completed"
    },
    "tags": []
   },
   "outputs": [
    {
     "data": {
      "image/png": "[encoded data removed]",
      "text/plain": [
       "<Figure size 1080x360 with 2 Axes>"
      ]
     },
     "metadata": {
      "needs_background": "light"
     },
     "output_type": "display_data"
    }
   ],
   "source": [
    "plt.figure(figsize=(15,5))\n",
    "plt.subplot(121)\n",
    "sns.distplot(train.y.values, bins=50, color=colors[1])\n",
    "plt.title('Distribution of the target variable (y)\\n',fontsize=15)\n",
    "plt.xlabel('Seconds');\n",
    "plt.ylabel('Frequency');\n",
    "\n",
    "plt.subplot(122)\n",
    "sns.boxplot(train.y.values, color=colors[3])\n",
    "plt.title('Distribution of the target variable (y)\\n',fontsize=15)\n",
    "plt.xlabel('Seconds'); "
   ]
  },
  {
   "cell_type": "code",
   "execution_count": 6,
   "metadata": {
    "execution": {
     "iopub.execute_input": "2022-05-05T13:20:06.883843Z",
     "iopub.status.busy": "2022-05-05T13:20:06.883071Z",
     "iopub.status.idle": "2022-05-05T13:20:06.891032Z",
     "shell.execute_reply": "2022-05-05T13:20:06.890265Z",
     "shell.execute_reply.started": "2022-05-05T12:47:10.600362Z"
    },
    "papermill": {
     "duration": 0.034348,
     "end_time": "2022-05-05T13:20:06.891210",
     "exception": false,
     "start_time": "2022-05-05T13:20:06.856862",
     "status": "completed"
    },
    "tags": []
   },
   "outputs": [
    {
     "data": {
      "text/plain": [
       "count    4209.000000\n",
       "mean      100.669318\n",
       "std        12.679381\n",
       "min        72.110000\n",
       "25%        90.820000\n",
       "50%        99.150000\n",
       "75%       109.010000\n",
       "max       265.320000\n",
       "Name: y, dtype: float64"
      ]
     },
     "execution_count": 6,
     "metadata": {},
     "output_type": "execute_result"
    }
   ],
   "source": [
    "train.y.describe()"
   ]
  },
  {
   "cell_type": "markdown",
   "metadata": {
    "papermill": {
     "duration": 0.021271,
     "end_time": "2022-05-05T13:20:06.934587",
     "exception": false,
     "start_time": "2022-05-05T13:20:06.913316",
     "status": "completed"
    },
    "tags": []
   },
   "source": [
    "The target variable (n) has a standard distribution of approximately 72 to 140 seconds.<br>\n",
    "The first and third quartiles range from approximately 91 to 109 seconds, with a median of 100s.<br>\n",
    "Also note that there are outliers starting at 140s that we can remove from the training sample as these values will add noise to our algorithm."
   ]
  },
  {
   "cell_type": "markdown",
   "metadata": {
    "papermill": {
     "duration": 0.021246,
     "end_time": "2022-05-05T13:20:06.977243",
     "exception": false,
     "start_time": "2022-05-05T13:20:06.955997",
     "status": "completed"
    },
    "tags": []
   },
   "source": [
    "### 2.2 Data types"
   ]
  },
  {
   "cell_type": "code",
   "execution_count": 7,
   "metadata": {
    "execution": {
     "iopub.execute_input": "2022-05-05T13:20:07.029163Z",
     "iopub.status.busy": "2022-05-05T13:20:07.028071Z",
     "iopub.status.idle": "2022-05-05T13:20:07.032504Z",
     "shell.execute_reply": "2022-05-05T13:20:07.031859Z",
     "shell.execute_reply.started": "2022-05-05T12:47:10.613119Z"
    },
    "papermill": {
     "duration": 0.033653,
     "end_time": "2022-05-05T13:20:07.032634",
     "exception": false,
     "start_time": "2022-05-05T13:20:06.998981",
     "status": "completed"
    },
    "tags": []
   },
   "outputs": [
    {
     "data": {
      "text/plain": [
       "int64      369\n",
       "object       8\n",
       "float64      1\n",
       "dtype: int64"
      ]
     },
     "execution_count": 7,
     "metadata": {},
     "output_type": "execute_result"
    }
   ],
   "source": [
    "train.dtypes.value_counts()"
   ]
  },
  {
   "cell_type": "code",
   "execution_count": 8,
   "metadata": {
    "execution": {
     "iopub.execute_input": "2022-05-05T13:20:07.083522Z",
     "iopub.status.busy": "2022-05-05T13:20:07.082900Z",
     "iopub.status.idle": "2022-05-05T13:20:07.086747Z",
     "shell.execute_reply": "2022-05-05T13:20:07.086177Z",
     "shell.execute_reply.started": "2022-05-05T12:47:10.624125Z"
    },
    "papermill": {
     "duration": 0.032328,
     "end_time": "2022-05-05T13:20:07.086859",
     "exception": false,
     "start_time": "2022-05-05T13:20:07.054531",
     "status": "completed"
    },
    "tags": []
   },
   "outputs": [
    {
     "data": {
      "text/plain": [
       "y    float64\n",
       "dtype: object"
      ]
     },
     "execution_count": 8,
     "metadata": {},
     "output_type": "execute_result"
    }
   ],
   "source": [
    "train.dtypes[train.dtypes=='float']"
   ]
  },
  {
   "cell_type": "code",
   "execution_count": 9,
   "metadata": {
    "execution": {
     "iopub.execute_input": "2022-05-05T13:20:07.139483Z",
     "iopub.status.busy": "2022-05-05T13:20:07.138827Z",
     "iopub.status.idle": "2022-05-05T13:20:07.142781Z",
     "shell.execute_reply": "2022-05-05T13:20:07.142253Z",
     "shell.execute_reply.started": "2022-05-05T12:47:10.666693Z"
    },
    "papermill": {
     "duration": 0.033358,
     "end_time": "2022-05-05T13:20:07.142896",
     "exception": false,
     "start_time": "2022-05-05T13:20:07.109538",
     "status": "completed"
    },
    "tags": []
   },
   "outputs": [
    {
     "data": {
      "text/plain": [
       "X0    object\n",
       "X1    object\n",
       "X2    object\n",
       "X3    object\n",
       "X4    object\n",
       "X5    object\n",
       "X6    object\n",
       "X8    object\n",
       "dtype: object"
      ]
     },
     "execution_count": 9,
     "metadata": {},
     "output_type": "execute_result"
    }
   ],
   "source": [
    "train.dtypes[train.dtypes=='object']"
   ]
  },
  {
   "cell_type": "code",
   "execution_count": 10,
   "metadata": {
    "execution": {
     "iopub.execute_input": "2022-05-05T13:20:07.202324Z",
     "iopub.status.busy": "2022-05-05T13:20:07.201447Z",
     "iopub.status.idle": "2022-05-05T13:20:07.205586Z",
     "shell.execute_reply": "2022-05-05T13:20:07.204645Z",
     "shell.execute_reply.started": "2022-05-05T12:47:10.677923Z"
    },
    "papermill": {
     "duration": 0.040562,
     "end_time": "2022-05-05T13:20:07.205761",
     "exception": false,
     "start_time": "2022-05-05T13:20:07.165199",
     "status": "completed"
    },
    "tags": []
   },
   "outputs": [
    {
     "name": "stdout",
     "output_type": "stream",
     "text": [
      "X0 ['k' 'az' 't' 'al' 'o' 'w' 'j' 'h' 's' 'n' 'ay' 'f' 'x' 'y' 'aj' 'ak' 'am'\n",
      " 'z' 'q' 'at' 'ap' 'v' 'af' 'a' 'e' 'ai' 'd' 'aq' 'c' 'aa' 'ba' 'as' 'i'\n",
      " 'r' 'b' 'ax' 'bc' 'u' 'ad' 'au' 'm' 'l' 'aw' 'ao' 'ac' 'g' 'ab']\n",
      "X1 ['v' 't' 'w' 'b' 'r' 'l' 's' 'aa' 'c' 'a' 'e' 'h' 'z' 'j' 'o' 'u' 'p' 'n'\n",
      " 'i' 'y' 'd' 'f' 'm' 'k' 'g' 'q' 'ab']\n",
      "X2 ['at' 'av' 'n' 'e' 'as' 'aq' 'r' 'ai' 'ak' 'm' 'a' 'k' 'ae' 's' 'f' 'd'\n",
      " 'ag' 'ay' 'ac' 'ap' 'g' 'i' 'aw' 'y' 'b' 'ao' 'al' 'h' 'x' 'au' 't' 'an'\n",
      " 'z' 'ah' 'p' 'am' 'j' 'q' 'af' 'l' 'aa' 'c' 'o' 'ar']\n",
      "X3 ['a' 'e' 'c' 'f' 'd' 'b' 'g']\n",
      "X4 ['d' 'b' 'c' 'a']\n",
      "X5 ['u' 'y' 'x' 'h' 'g' 'f' 'j' 'i' 'd' 'c' 'af' 'ag' 'ab' 'ac' 'ad' 'ae'\n",
      " 'ah' 'l' 'k' 'n' 'm' 'p' 'q' 's' 'r' 'v' 'w' 'o' 'aa']\n",
      "X6 ['j' 'l' 'd' 'h' 'i' 'a' 'g' 'c' 'k' 'e' 'f' 'b']\n",
      "X8 ['o' 'x' 'e' 'n' 's' 'a' 'h' 'p' 'm' 'k' 'd' 'i' 'v' 'j' 'b' 'q' 'w' 'g'\n",
      " 'y' 'l' 'f' 'u' 'r' 't' 'c']\n"
     ]
    }
   ],
   "source": [
    "obj = train.dtypes[train.dtypes=='object'].index\n",
    "for i in obj:\n",
    "    print(i, train[i].unique())"
   ]
  },
  {
   "cell_type": "markdown",
   "metadata": {
    "papermill": {
     "duration": 0.022343,
     "end_time": "2022-05-05T13:20:07.251207",
     "exception": false,
     "start_time": "2022-05-05T13:20:07.228864",
     "status": "completed"
    },
    "tags": []
   },
   "source": [
    "### 2.3 Missing values"
   ]
  },
  {
   "cell_type": "code",
   "execution_count": 11,
   "metadata": {
    "execution": {
     "iopub.execute_input": "2022-05-05T13:20:07.314294Z",
     "iopub.status.busy": "2022-05-05T13:20:07.313424Z",
     "iopub.status.idle": "2022-05-05T13:20:07.333248Z",
     "shell.execute_reply": "2022-05-05T13:20:07.333801Z",
     "shell.execute_reply.started": "2022-05-05T12:47:10.696414Z"
    },
    "papermill": {
     "duration": 0.060102,
     "end_time": "2022-05-05T13:20:07.333960",
     "exception": false,
     "start_time": "2022-05-05T13:20:07.273858",
     "status": "completed"
    },
    "tags": []
   },
   "outputs": [
    {
     "data": {
      "text/plain": [
       "Series([], dtype: int64)"
      ]
     },
     "execution_count": 11,
     "metadata": {},
     "output_type": "execute_result"
    }
   ],
   "source": [
    "train.isna().sum()[train.isna().sum()>0]"
   ]
  },
  {
   "cell_type": "markdown",
   "metadata": {
    "papermill": {
     "duration": 0.022775,
     "end_time": "2022-05-05T13:20:07.379926",
     "exception": false,
     "start_time": "2022-05-05T13:20:07.357151",
     "status": "completed"
    },
    "tags": []
   },
   "source": [
    "### 2.4 Categorical variables"
   ]
  },
  {
   "cell_type": "code",
   "execution_count": 12,
   "metadata": {
    "execution": {
     "iopub.execute_input": "2022-05-05T13:20:07.429757Z",
     "iopub.status.busy": "2022-05-05T13:20:07.428792Z",
     "iopub.status.idle": "2022-05-05T13:20:11.357599Z",
     "shell.execute_reply": "2022-05-05T13:20:11.358093Z",
     "shell.execute_reply.started": "2022-05-05T13:05:01.188179Z"
    },
    "papermill": {
     "duration": 3.95521,
     "end_time": "2022-05-05T13:20:11.358242",
     "exception": false,
     "start_time": "2022-05-05T13:20:07.403032",
     "status": "completed"
    },
    "tags": []
   },
   "outputs": [
    {
     "data": {
      "image/png": "[encoded data removed]",
      "text/plain": [
       "<Figure size 1440x5040 with 8 Axes>"
      ]
     },
     "metadata": {
      "needs_background": "light"
     },
     "output_type": "display_data"
    }
   ],
   "source": [
    "fig,ax = plt.subplots(len(obj), figsize=(20,70))\n",
    "\n",
    "for i, col in enumerate(obj):\n",
    "    sns.boxplot(x=col, y='y', data=train, ax=ax[i])"
   ]
  },
  {
   "cell_type": "markdown",
   "metadata": {
    "papermill": {
     "duration": 0.026529,
     "end_time": "2022-05-05T13:20:11.411780",
     "exception": false,
     "start_time": "2022-05-05T13:20:11.385251",
     "status": "completed"
    },
    "tags": []
   },
   "source": [
    "#### What we see from the charts:\n",
    "\n",
    "1) Since there is a need to reduce the testing time, the best values in the variables for which this time is minimal are \"az\" and \"bc\" (X0), \"y\" (X1), \"n\" (X2), \"x\" and \"h\" (X5) -> **hypothesis** - can affect y?;\n",
    "\n",
    "2) Variables X3, X5, X6, X8 have similar distributions of values, where there are no special differences within the feature between the values in the context of means and quartiles;\n",
    "\n",
    "3) X0 and X2 have the greatest variety within the variables, which can potentially indicate the greater usefulness of these features."
   ]
  },
  {
   "cell_type": "markdown",
   "metadata": {
    "papermill": {
     "duration": 0.026403,
     "end_time": "2022-05-05T13:20:11.466129",
     "exception": false,
     "start_time": "2022-05-05T13:20:11.439726",
     "status": "completed"
    },
    "tags": []
   },
   "source": [
    "### 2.5 Numeric variables"
   ]
  },
  {
   "cell_type": "code",
   "execution_count": 13,
   "metadata": {
    "execution": {
     "iopub.execute_input": "2022-05-05T13:20:11.522968Z",
     "iopub.status.busy": "2022-05-05T13:20:11.522336Z",
     "iopub.status.idle": "2022-05-05T13:20:11.527545Z",
     "shell.execute_reply": "2022-05-05T13:20:11.528072Z",
     "shell.execute_reply.started": "2022-05-05T12:47:15.421744Z"
    },
    "papermill": {
     "duration": 0.035284,
     "end_time": "2022-05-05T13:20:11.528218",
     "exception": false,
     "start_time": "2022-05-05T13:20:11.492934",
     "status": "completed"
    },
    "tags": []
   },
   "outputs": [],
   "source": [
    "num = train.dtypes[train.dtypes=='int'].index[1:]"
   ]
  },
  {
   "cell_type": "markdown",
   "metadata": {
    "papermill": {
     "duration": 0.026371,
     "end_time": "2022-05-05T13:20:11.581667",
     "exception": false,
     "start_time": "2022-05-05T13:20:11.555296",
     "status": "completed"
    },
    "tags": []
   },
   "source": [
    "We have a set of numerical variables, where the value is set to 1 or 0, so there is no need to carry out a volume analysis.<br>\n",
    "In this case, we should be interested in whether the value of the indicators inside the variables changes,<br>\n",
    "for this we study the variance of these variables, using the var() function, and select only those where the variance is zero (that is, always 0, or 1 on the entire dataset in cut variable)"
   ]
  },
  {
   "cell_type": "code",
   "execution_count": 14,
   "metadata": {
    "execution": {
     "iopub.execute_input": "2022-05-05T13:20:11.638236Z",
     "iopub.status.busy": "2022-05-05T13:20:11.637616Z",
     "iopub.status.idle": "2022-05-05T13:20:11.693989Z",
     "shell.execute_reply": "2022-05-05T13:20:11.693408Z",
     "shell.execute_reply.started": "2022-05-05T12:47:15.430407Z"
    },
    "papermill": {
     "duration": 0.085609,
     "end_time": "2022-05-05T13:20:11.694111",
     "exception": false,
     "start_time": "2022-05-05T13:20:11.608502",
     "status": "completed"
    },
    "tags": []
   },
   "outputs": [
    {
     "name": "stdout",
     "output_type": "stream",
     "text": [
      "X11 0.0\n",
      "X93 0.0\n",
      "X107 0.0\n",
      "X233 0.0\n",
      "X235 0.0\n",
      "X268 0.0\n",
      "X289 0.0\n",
      "X290 0.0\n",
      "X293 0.0\n",
      "X297 0.0\n",
      "X330 0.0\n",
      "X347 0.0\n"
     ]
    }
   ],
   "source": [
    "nan_num = []\n",
    "for i in num:\n",
    "    if (train[i].var()==0):\n",
    "        print(i, train[i].var())\n",
    "        nan_num.append(i)"
   ]
  },
  {
   "cell_type": "markdown",
   "metadata": {
    "papermill": {
     "duration": 0.027204,
     "end_time": "2022-05-05T13:20:11.748494",
     "exception": false,
     "start_time": "2022-05-05T13:20:11.721290",
     "status": "completed"
    },
    "tags": []
   },
   "source": [
    "We received several such variables, we can remove them from the analysis, since they will not affect the target in any way, thereby we increase the performance of the algorithm."
   ]
  },
  {
   "cell_type": "code",
   "execution_count": 15,
   "metadata": {
    "execution": {
     "iopub.execute_input": "2022-05-05T13:20:11.815688Z",
     "iopub.status.busy": "2022-05-05T13:20:11.814986Z",
     "iopub.status.idle": "2022-05-05T13:20:11.818193Z",
     "shell.execute_reply": "2022-05-05T13:20:11.817644Z",
     "shell.execute_reply.started": "2022-05-05T12:47:15.497523Z"
    },
    "papermill": {
     "duration": 0.042659,
     "end_time": "2022-05-05T13:20:11.818311",
     "exception": false,
     "start_time": "2022-05-05T13:20:11.775652",
     "status": "completed"
    },
    "tags": []
   },
   "outputs": [],
   "source": [
    "train = train.drop(columns=nan_num, axis=1)"
   ]
  },
  {
   "cell_type": "markdown",
   "metadata": {
    "papermill": {
     "duration": 0.027126,
     "end_time": "2022-05-05T13:20:11.873275",
     "exception": false,
     "start_time": "2022-05-05T13:20:11.846149",
     "status": "completed"
    },
    "tags": []
   },
   "source": [
    "### 2.6 Correlation analysis"
   ]
  },
  {
   "cell_type": "markdown",
   "metadata": {
    "papermill": {
     "duration": 0.027547,
     "end_time": "2022-05-05T13:20:11.928734",
     "exception": false,
     "start_time": "2022-05-05T13:20:11.901187",
     "status": "completed"
    },
    "tags": []
   },
   "source": [
    "In order for us to be able to do a correlation analysis for categorical variables, before that we need to convert these variables using LabelEncoder().<br>\n",
    "When converting values to a binary form, we will not be able to track the relationship of a particular variable + we must take into account the test set, since its values will participate in finding the target."
   ]
  },
  {
   "cell_type": "code",
   "execution_count": 16,
   "metadata": {
    "execution": {
     "iopub.execute_input": "2022-05-05T13:20:11.993291Z",
     "iopub.status.busy": "2022-05-05T13:20:11.992540Z",
     "iopub.status.idle": "2022-05-05T13:20:12.020681Z",
     "shell.execute_reply": "2022-05-05T13:20:12.020090Z",
     "shell.execute_reply.started": "2022-05-05T12:47:15.512514Z"
    },
    "papermill": {
     "duration": 0.064749,
     "end_time": "2022-05-05T13:20:12.020824",
     "exception": false,
     "start_time": "2022-05-05T13:20:11.956075",
     "status": "completed"
    },
    "tags": []
   },
   "outputs": [],
   "source": [
    "for i in obj:\n",
    "    le = LabelEncoder()\n",
    "    le.fit(list(train[i].values) + list(train[i].values))\n",
    "    train[i] = le.transform(list(train[i].values))"
   ]
  },
  {
   "cell_type": "code",
   "execution_count": 17,
   "metadata": {
    "execution": {
     "iopub.execute_input": "2022-05-05T13:20:12.079119Z",
     "iopub.status.busy": "2022-05-05T13:20:12.078504Z",
     "iopub.status.idle": "2022-05-05T13:20:12.099624Z",
     "shell.execute_reply": "2022-05-05T13:20:12.100138Z",
     "shell.execute_reply.started": "2022-05-05T12:47:15.561594Z"
    },
    "papermill": {
     "duration": 0.05192,
     "end_time": "2022-05-05T13:20:12.100282",
     "exception": false,
     "start_time": "2022-05-05T13:20:12.048362",
     "status": "completed"
    },
    "tags": []
   },
   "outputs": [
    {
     "data": {
      "text/html": [
       "<div>\n",
       "<style scoped>\n",
       "    .dataframe tbody tr th:only-of-type {\n",
       "        vertical-align: middle;\n",
       "    }\n",
       "\n",
       "    .dataframe tbody tr th {\n",
       "        vertical-align: top;\n",
       "    }\n",
       "\n",
       "    .dataframe thead th {\n",
       "        text-align: right;\n",
       "    }\n",
       "</style>\n",
       "<table border=\"1\" class=\"dataframe\">\n",
       "  <thead>\n",
       "    <tr style=\"text-align: right;\">\n",
       "      <th></th>\n",
       "      <th>X0</th>\n",
       "      <th>X1</th>\n",
       "      <th>X2</th>\n",
       "      <th>X3</th>\n",
       "      <th>X4</th>\n",
       "      <th>X5</th>\n",
       "      <th>X6</th>\n",
       "      <th>X8</th>\n",
       "    </tr>\n",
       "  </thead>\n",
       "  <tbody>\n",
       "    <tr>\n",
       "      <th>0</th>\n",
       "      <td>32</td>\n",
       "      <td>23</td>\n",
       "      <td>17</td>\n",
       "      <td>0</td>\n",
       "      <td>3</td>\n",
       "      <td>24</td>\n",
       "      <td>9</td>\n",
       "      <td>14</td>\n",
       "    </tr>\n",
       "    <tr>\n",
       "      <th>1</th>\n",
       "      <td>32</td>\n",
       "      <td>21</td>\n",
       "      <td>19</td>\n",
       "      <td>4</td>\n",
       "      <td>3</td>\n",
       "      <td>28</td>\n",
       "      <td>11</td>\n",
       "      <td>14</td>\n",
       "    </tr>\n",
       "    <tr>\n",
       "      <th>2</th>\n",
       "      <td>20</td>\n",
       "      <td>24</td>\n",
       "      <td>34</td>\n",
       "      <td>2</td>\n",
       "      <td>3</td>\n",
       "      <td>27</td>\n",
       "      <td>9</td>\n",
       "      <td>23</td>\n",
       "    </tr>\n",
       "    <tr>\n",
       "      <th>3</th>\n",
       "      <td>20</td>\n",
       "      <td>21</td>\n",
       "      <td>34</td>\n",
       "      <td>5</td>\n",
       "      <td>3</td>\n",
       "      <td>27</td>\n",
       "      <td>11</td>\n",
       "      <td>4</td>\n",
       "    </tr>\n",
       "    <tr>\n",
       "      <th>4</th>\n",
       "      <td>20</td>\n",
       "      <td>23</td>\n",
       "      <td>34</td>\n",
       "      <td>5</td>\n",
       "      <td>3</td>\n",
       "      <td>12</td>\n",
       "      <td>3</td>\n",
       "      <td>13</td>\n",
       "    </tr>\n",
       "  </tbody>\n",
       "</table>\n",
       "</div>"
      ],
      "text/plain": [
       "   X0  X1  X2  X3  X4  X5  X6  X8\n",
       "0  32  23  17   0   3  24   9  14\n",
       "1  32  21  19   4   3  28  11  14\n",
       "2  20  24  34   2   3  27   9  23\n",
       "3  20  21  34   5   3  27  11   4\n",
       "4  20  23  34   5   3  12   3  13"
      ]
     },
     "execution_count": 17,
     "metadata": {},
     "output_type": "execute_result"
    }
   ],
   "source": [
    "train[obj].head()"
   ]
  },
  {
   "cell_type": "code",
   "execution_count": 18,
   "metadata": {
    "execution": {
     "iopub.execute_input": "2022-05-05T13:20:12.163062Z",
     "iopub.status.busy": "2022-05-05T13:20:12.162309Z",
     "iopub.status.idle": "2022-05-05T13:20:12.605717Z",
     "shell.execute_reply": "2022-05-05T13:20:12.605058Z",
     "shell.execute_reply.started": "2022-05-05T12:47:15.587056Z"
    },
    "papermill": {
     "duration": 0.476761,
     "end_time": "2022-05-05T13:20:12.605842",
     "exception": false,
     "start_time": "2022-05-05T13:20:12.129081",
     "status": "completed"
    },
    "tags": []
   },
   "outputs": [
    {
     "data": {
      "image/png": "[encoded data removed]",
      "text/plain": [
       "<Figure size 504x432 with 2 Axes>"
      ]
     },
     "metadata": {
      "needs_background": "light"
     },
     "output_type": "display_data"
    }
   ],
   "source": [
    "corr = train[train.columns[1:10]].corr()\n",
    "\n",
    "fig,ax = plt.subplots(figsize=(7,6))\n",
    "sns.heatmap(corr, vmax=.7, square=True,annot=True);"
   ]
  },
  {
   "cell_type": "markdown",
   "metadata": {
    "papermill": {
     "duration": 0.028809,
     "end_time": "2022-05-05T13:20:12.664485",
     "exception": false,
     "start_time": "2022-05-05T13:20:12.635676",
     "status": "completed"
    },
    "tags": []
   },
   "source": [
    "Among the categorical variables, we did not find a direct relationship with the target y."
   ]
  },
  {
   "cell_type": "code",
   "execution_count": 19,
   "metadata": {
    "execution": {
     "iopub.execute_input": "2022-05-05T13:20:12.729920Z",
     "iopub.status.busy": "2022-05-05T13:20:12.729221Z",
     "iopub.status.idle": "2022-05-05T13:20:13.825824Z",
     "shell.execute_reply": "2022-05-05T13:20:13.826320Z",
     "shell.execute_reply.started": "2022-05-05T12:47:16.093891Z"
    },
    "papermill": {
     "duration": 1.13287,
     "end_time": "2022-05-05T13:20:13.826484",
     "exception": false,
     "start_time": "2022-05-05T13:20:12.693614",
     "status": "completed"
    },
    "tags": []
   },
   "outputs": [],
   "source": [
    "threshold = 1\n",
    "\n",
    "corr_all = train.drop(columns=obj, axis=1).corr()\n",
    "corr_all.loc[:,:] =  np.tril(corr_all, k=-1) "
   ]
  },
  {
   "cell_type": "code",
   "execution_count": 20,
   "metadata": {
    "execution": {
     "iopub.execute_input": "2022-05-05T13:20:13.888688Z",
     "iopub.status.busy": "2022-05-05T13:20:13.888025Z",
     "iopub.status.idle": "2022-05-05T13:20:13.994856Z",
     "shell.execute_reply": "2022-05-05T13:20:13.995346Z",
     "shell.execute_reply.started": "2022-05-05T12:47:17.213704Z"
    },
    "papermill": {
     "duration": 0.139684,
     "end_time": "2022-05-05T13:20:13.995548",
     "exception": false,
     "start_time": "2022-05-05T13:20:13.855864",
     "status": "completed"
    },
    "tags": []
   },
   "outputs": [],
   "source": [
    "already_in = set()\n",
    "result = []\n",
    "for col in corr_all:\n",
    "    perfect_corr = corr_all[col][corr_all[col] == threshold ].index.tolist()\n",
    "    if perfect_corr and col not in already_in:\n",
    "        already_in.update(set(perfect_corr))\n",
    "        perfect_corr.append(col)\n",
    "        result.append(perfect_corr)"
   ]
  },
  {
   "cell_type": "code",
   "execution_count": 21,
   "metadata": {
    "execution": {
     "iopub.execute_input": "2022-05-05T13:20:14.057346Z",
     "iopub.status.busy": "2022-05-05T13:20:14.056758Z",
     "iopub.status.idle": "2022-05-05T13:20:14.062930Z",
     "shell.execute_reply": "2022-05-05T13:20:14.063521Z",
     "shell.execute_reply.started": "2022-05-05T12:47:17.335627Z"
    },
    "papermill": {
     "duration": 0.038279,
     "end_time": "2022-05-05T13:20:14.063667",
     "exception": false,
     "start_time": "2022-05-05T13:20:14.025388",
     "status": "completed"
    },
    "tags": []
   },
   "outputs": [
    {
     "data": {
      "text/plain": [
       "[['X382', 'X17'],\n",
       " ['X232', 'X279', 'X29'],\n",
       " ['X35', 'X37', 'X31'],\n",
       " ['X39', 'X33'],\n",
       " ['X302', 'X44'],\n",
       " ['X113', 'X134', 'X147', 'X222', 'X48'],\n",
       " ['X102', 'X214', 'X239', 'X53'],\n",
       " ['X76', 'X54'],\n",
       " ['X324', 'X58'],\n",
       " ['X248', 'X253', 'X385', 'X60'],\n",
       " ['X172', 'X216', 'X62'],\n",
       " ['X213', 'X67'],\n",
       " ['X84', 'X244', 'X71'],\n",
       " ['X122', 'X243', 'X320', 'X88'],\n",
       " ['X245', 'X89'],\n",
       " ['X94', 'X242', 'X90'],\n",
       " ['X199', 'X112'],\n",
       " ['X119', 'X118'],\n",
       " ['X227', 'X125'],\n",
       " ['X146', 'X138'],\n",
       " ['X226', 'X326', 'X152'],\n",
       " ['X360', 'X155'],\n",
       " ['X262', 'X266', 'X184'],\n",
       " ['X247', 'X202'],\n",
       " ['X254', 'X230'],\n",
       " ['X364', 'X365', 'X240'],\n",
       " ['X296', 'X295'],\n",
       " ['X299', 'X298']]"
      ]
     },
     "execution_count": 21,
     "metadata": {},
     "output_type": "execute_result"
    }
   ],
   "source": [
    "result"
   ]
  },
  {
   "cell_type": "markdown",
   "metadata": {
    "papermill": {
     "duration": 0.028925,
     "end_time": "2022-05-05T13:20:14.121958",
     "exception": false,
     "start_time": "2022-05-05T13:20:14.093033",
     "status": "completed"
    },
    "tags": []
   },
   "source": [
    "When analyzing numerical variables, we found that some of them have a direct correlation with others, therefore, in order to avoid multicollinearity.<br>\n",
    "So we can remove variables with a correlation of 1 (leave one of the group), or use regularization so that the algorithm does this automatically.<br>\n",
    "\n",
    "How else can we remove such variables without correlation? It's simple, **we remove duplicates in the context of columns**."
   ]
  },
  {
   "cell_type": "code",
   "execution_count": 22,
   "metadata": {
    "execution": {
     "iopub.execute_input": "2022-05-05T13:20:14.184669Z",
     "iopub.status.busy": "2022-05-05T13:20:14.184022Z",
     "iopub.status.idle": "2022-05-05T13:20:14.996689Z",
     "shell.execute_reply": "2022-05-05T13:20:14.996118Z",
     "shell.execute_reply.started": "2022-05-05T12:47:17.344872Z"
    },
    "papermill": {
     "duration": 0.844824,
     "end_time": "2022-05-05T13:20:14.996845",
     "exception": false,
     "start_time": "2022-05-05T13:20:14.152021",
     "status": "completed"
    },
    "tags": []
   },
   "outputs": [
    {
     "data": {
      "text/html": [
       "<div>\n",
       "<style scoped>\n",
       "    .dataframe tbody tr th:only-of-type {\n",
       "        vertical-align: middle;\n",
       "    }\n",
       "\n",
       "    .dataframe tbody tr th {\n",
       "        vertical-align: top;\n",
       "    }\n",
       "\n",
       "    .dataframe thead th {\n",
       "        text-align: right;\n",
       "    }\n",
       "</style>\n",
       "<table border=\"1\" class=\"dataframe\">\n",
       "  <thead>\n",
       "    <tr style=\"text-align: right;\">\n",
       "      <th></th>\n",
       "      <th>ID</th>\n",
       "      <th>y</th>\n",
       "      <th>X0</th>\n",
       "      <th>X1</th>\n",
       "      <th>X2</th>\n",
       "      <th>X3</th>\n",
       "      <th>X4</th>\n",
       "      <th>X5</th>\n",
       "      <th>X6</th>\n",
       "      <th>X8</th>\n",
       "      <th>...</th>\n",
       "      <th>X373</th>\n",
       "      <th>X374</th>\n",
       "      <th>X375</th>\n",
       "      <th>X376</th>\n",
       "      <th>X377</th>\n",
       "      <th>X378</th>\n",
       "      <th>X379</th>\n",
       "      <th>X380</th>\n",
       "      <th>X383</th>\n",
       "      <th>X384</th>\n",
       "    </tr>\n",
       "  </thead>\n",
       "  <tbody>\n",
       "    <tr>\n",
       "      <th>0</th>\n",
       "      <td>0.0</td>\n",
       "      <td>130.81</td>\n",
       "      <td>32.0</td>\n",
       "      <td>23.0</td>\n",
       "      <td>17.0</td>\n",
       "      <td>0.0</td>\n",
       "      <td>3.0</td>\n",
       "      <td>24.0</td>\n",
       "      <td>9.0</td>\n",
       "      <td>14.0</td>\n",
       "      <td>...</td>\n",
       "      <td>0.0</td>\n",
       "      <td>0.0</td>\n",
       "      <td>0.0</td>\n",
       "      <td>0.0</td>\n",
       "      <td>1.0</td>\n",
       "      <td>0.0</td>\n",
       "      <td>0.0</td>\n",
       "      <td>0.0</td>\n",
       "      <td>0.0</td>\n",
       "      <td>0.0</td>\n",
       "    </tr>\n",
       "    <tr>\n",
       "      <th>1</th>\n",
       "      <td>6.0</td>\n",
       "      <td>88.53</td>\n",
       "      <td>32.0</td>\n",
       "      <td>21.0</td>\n",
       "      <td>19.0</td>\n",
       "      <td>4.0</td>\n",
       "      <td>3.0</td>\n",
       "      <td>28.0</td>\n",
       "      <td>11.0</td>\n",
       "      <td>14.0</td>\n",
       "      <td>...</td>\n",
       "      <td>0.0</td>\n",
       "      <td>0.0</td>\n",
       "      <td>1.0</td>\n",
       "      <td>0.0</td>\n",
       "      <td>0.0</td>\n",
       "      <td>0.0</td>\n",
       "      <td>0.0</td>\n",
       "      <td>0.0</td>\n",
       "      <td>0.0</td>\n",
       "      <td>0.0</td>\n",
       "    </tr>\n",
       "    <tr>\n",
       "      <th>2</th>\n",
       "      <td>7.0</td>\n",
       "      <td>76.26</td>\n",
       "      <td>20.0</td>\n",
       "      <td>24.0</td>\n",
       "      <td>34.0</td>\n",
       "      <td>2.0</td>\n",
       "      <td>3.0</td>\n",
       "      <td>27.0</td>\n",
       "      <td>9.0</td>\n",
       "      <td>23.0</td>\n",
       "      <td>...</td>\n",
       "      <td>0.0</td>\n",
       "      <td>0.0</td>\n",
       "      <td>0.0</td>\n",
       "      <td>0.0</td>\n",
       "      <td>0.0</td>\n",
       "      <td>0.0</td>\n",
       "      <td>0.0</td>\n",
       "      <td>0.0</td>\n",
       "      <td>0.0</td>\n",
       "      <td>0.0</td>\n",
       "    </tr>\n",
       "    <tr>\n",
       "      <th>3</th>\n",
       "      <td>9.0</td>\n",
       "      <td>80.62</td>\n",
       "      <td>20.0</td>\n",
       "      <td>21.0</td>\n",
       "      <td>34.0</td>\n",
       "      <td>5.0</td>\n",
       "      <td>3.0</td>\n",
       "      <td>27.0</td>\n",
       "      <td>11.0</td>\n",
       "      <td>4.0</td>\n",
       "      <td>...</td>\n",
       "      <td>0.0</td>\n",
       "      <td>0.0</td>\n",
       "      <td>0.0</td>\n",
       "      <td>0.0</td>\n",
       "      <td>0.0</td>\n",
       "      <td>0.0</td>\n",
       "      <td>0.0</td>\n",
       "      <td>0.0</td>\n",
       "      <td>0.0</td>\n",
       "      <td>0.0</td>\n",
       "    </tr>\n",
       "    <tr>\n",
       "      <th>4</th>\n",
       "      <td>13.0</td>\n",
       "      <td>78.02</td>\n",
       "      <td>20.0</td>\n",
       "      <td>23.0</td>\n",
       "      <td>34.0</td>\n",
       "      <td>5.0</td>\n",
       "      <td>3.0</td>\n",
       "      <td>12.0</td>\n",
       "      <td>3.0</td>\n",
       "      <td>13.0</td>\n",
       "      <td>...</td>\n",
       "      <td>0.0</td>\n",
       "      <td>0.0</td>\n",
       "      <td>0.0</td>\n",
       "      <td>0.0</td>\n",
       "      <td>0.0</td>\n",
       "      <td>0.0</td>\n",
       "      <td>0.0</td>\n",
       "      <td>0.0</td>\n",
       "      <td>0.0</td>\n",
       "      <td>0.0</td>\n",
       "    </tr>\n",
       "    <tr>\n",
       "      <th>...</th>\n",
       "      <td>...</td>\n",
       "      <td>...</td>\n",
       "      <td>...</td>\n",
       "      <td>...</td>\n",
       "      <td>...</td>\n",
       "      <td>...</td>\n",
       "      <td>...</td>\n",
       "      <td>...</td>\n",
       "      <td>...</td>\n",
       "      <td>...</td>\n",
       "      <td>...</td>\n",
       "      <td>...</td>\n",
       "      <td>...</td>\n",
       "      <td>...</td>\n",
       "      <td>...</td>\n",
       "      <td>...</td>\n",
       "      <td>...</td>\n",
       "      <td>...</td>\n",
       "      <td>...</td>\n",
       "      <td>...</td>\n",
       "      <td>...</td>\n",
       "    </tr>\n",
       "    <tr>\n",
       "      <th>4204</th>\n",
       "      <td>8405.0</td>\n",
       "      <td>107.39</td>\n",
       "      <td>8.0</td>\n",
       "      <td>20.0</td>\n",
       "      <td>16.0</td>\n",
       "      <td>2.0</td>\n",
       "      <td>3.0</td>\n",
       "      <td>0.0</td>\n",
       "      <td>3.0</td>\n",
       "      <td>16.0</td>\n",
       "      <td>...</td>\n",
       "      <td>0.0</td>\n",
       "      <td>0.0</td>\n",
       "      <td>1.0</td>\n",
       "      <td>0.0</td>\n",
       "      <td>0.0</td>\n",
       "      <td>0.0</td>\n",
       "      <td>0.0</td>\n",
       "      <td>0.0</td>\n",
       "      <td>0.0</td>\n",
       "      <td>0.0</td>\n",
       "    </tr>\n",
       "    <tr>\n",
       "      <th>4205</th>\n",
       "      <td>8406.0</td>\n",
       "      <td>108.77</td>\n",
       "      <td>31.0</td>\n",
       "      <td>16.0</td>\n",
       "      <td>40.0</td>\n",
       "      <td>3.0</td>\n",
       "      <td>3.0</td>\n",
       "      <td>0.0</td>\n",
       "      <td>7.0</td>\n",
       "      <td>7.0</td>\n",
       "      <td>...</td>\n",
       "      <td>0.0</td>\n",
       "      <td>0.0</td>\n",
       "      <td>0.0</td>\n",
       "      <td>1.0</td>\n",
       "      <td>0.0</td>\n",
       "      <td>0.0</td>\n",
       "      <td>0.0</td>\n",
       "      <td>0.0</td>\n",
       "      <td>0.0</td>\n",
       "      <td>0.0</td>\n",
       "    </tr>\n",
       "    <tr>\n",
       "      <th>4206</th>\n",
       "      <td>8412.0</td>\n",
       "      <td>109.22</td>\n",
       "      <td>8.0</td>\n",
       "      <td>23.0</td>\n",
       "      <td>38.0</td>\n",
       "      <td>0.0</td>\n",
       "      <td>3.0</td>\n",
       "      <td>0.0</td>\n",
       "      <td>6.0</td>\n",
       "      <td>4.0</td>\n",
       "      <td>...</td>\n",
       "      <td>0.0</td>\n",
       "      <td>0.0</td>\n",
       "      <td>0.0</td>\n",
       "      <td>0.0</td>\n",
       "      <td>1.0</td>\n",
       "      <td>0.0</td>\n",
       "      <td>0.0</td>\n",
       "      <td>0.0</td>\n",
       "      <td>0.0</td>\n",
       "      <td>0.0</td>\n",
       "    </tr>\n",
       "    <tr>\n",
       "      <th>4207</th>\n",
       "      <td>8415.0</td>\n",
       "      <td>87.48</td>\n",
       "      <td>9.0</td>\n",
       "      <td>19.0</td>\n",
       "      <td>25.0</td>\n",
       "      <td>5.0</td>\n",
       "      <td>3.0</td>\n",
       "      <td>0.0</td>\n",
       "      <td>11.0</td>\n",
       "      <td>20.0</td>\n",
       "      <td>...</td>\n",
       "      <td>0.0</td>\n",
       "      <td>1.0</td>\n",
       "      <td>0.0</td>\n",
       "      <td>0.0</td>\n",
       "      <td>0.0</td>\n",
       "      <td>0.0</td>\n",
       "      <td>0.0</td>\n",
       "      <td>0.0</td>\n",
       "      <td>0.0</td>\n",
       "      <td>0.0</td>\n",
       "    </tr>\n",
       "    <tr>\n",
       "      <th>4208</th>\n",
       "      <td>8417.0</td>\n",
       "      <td>110.85</td>\n",
       "      <td>46.0</td>\n",
       "      <td>19.0</td>\n",
       "      <td>3.0</td>\n",
       "      <td>2.0</td>\n",
       "      <td>3.0</td>\n",
       "      <td>0.0</td>\n",
       "      <td>6.0</td>\n",
       "      <td>22.0</td>\n",
       "      <td>...</td>\n",
       "      <td>0.0</td>\n",
       "      <td>0.0</td>\n",
       "      <td>1.0</td>\n",
       "      <td>0.0</td>\n",
       "      <td>0.0</td>\n",
       "      <td>0.0</td>\n",
       "      <td>0.0</td>\n",
       "      <td>0.0</td>\n",
       "      <td>0.0</td>\n",
       "      <td>0.0</td>\n",
       "    </tr>\n",
       "  </tbody>\n",
       "</table>\n",
       "<p>4209 rows × 321 columns</p>\n",
       "</div>"
      ],
      "text/plain": [
       "          ID       y    X0    X1    X2   X3   X4    X5    X6    X8  ...  X373  \\\n",
       "0        0.0  130.81  32.0  23.0  17.0  0.0  3.0  24.0   9.0  14.0  ...   0.0   \n",
       "1        6.0   88.53  32.0  21.0  19.0  4.0  3.0  28.0  11.0  14.0  ...   0.0   \n",
       "2        7.0   76.26  20.0  24.0  34.0  2.0  3.0  27.0   9.0  23.0  ...   0.0   \n",
       "3        9.0   80.62  20.0  21.0  34.0  5.0  3.0  27.0  11.0   4.0  ...   0.0   \n",
       "4       13.0   78.02  20.0  23.0  34.0  5.0  3.0  12.0   3.0  13.0  ...   0.0   \n",
       "...      ...     ...   ...   ...   ...  ...  ...   ...   ...   ...  ...   ...   \n",
       "4204  8405.0  107.39   8.0  20.0  16.0  2.0  3.0   0.0   3.0  16.0  ...   0.0   \n",
       "4205  8406.0  108.77  31.0  16.0  40.0  3.0  3.0   0.0   7.0   7.0  ...   0.0   \n",
       "4206  8412.0  109.22   8.0  23.0  38.0  0.0  3.0   0.0   6.0   4.0  ...   0.0   \n",
       "4207  8415.0   87.48   9.0  19.0  25.0  5.0  3.0   0.0  11.0  20.0  ...   0.0   \n",
       "4208  8417.0  110.85  46.0  19.0   3.0  2.0  3.0   0.0   6.0  22.0  ...   0.0   \n",
       "\n",
       "      X374  X375  X376  X377  X378  X379  X380  X383  X384  \n",
       "0      0.0   0.0   0.0   1.0   0.0   0.0   0.0   0.0   0.0  \n",
       "1      0.0   1.0   0.0   0.0   0.0   0.0   0.0   0.0   0.0  \n",
       "2      0.0   0.0   0.0   0.0   0.0   0.0   0.0   0.0   0.0  \n",
       "3      0.0   0.0   0.0   0.0   0.0   0.0   0.0   0.0   0.0  \n",
       "4      0.0   0.0   0.0   0.0   0.0   0.0   0.0   0.0   0.0  \n",
       "...    ...   ...   ...   ...   ...   ...   ...   ...   ...  \n",
       "4204   0.0   1.0   0.0   0.0   0.0   0.0   0.0   0.0   0.0  \n",
       "4205   0.0   0.0   1.0   0.0   0.0   0.0   0.0   0.0   0.0  \n",
       "4206   0.0   0.0   0.0   1.0   0.0   0.0   0.0   0.0   0.0  \n",
       "4207   1.0   0.0   0.0   0.0   0.0   0.0   0.0   0.0   0.0  \n",
       "4208   0.0   1.0   0.0   0.0   0.0   0.0   0.0   0.0   0.0  \n",
       "\n",
       "[4209 rows x 321 columns]"
      ]
     },
     "execution_count": 22,
     "metadata": {},
     "output_type": "execute_result"
    }
   ],
   "source": [
    "train.T.drop_duplicates().T"
   ]
  }
 ],
 "metadata": {
  "kernelspec": {
   "display_name": "Python 3 (ipykernel)",
   "language": "python",
   "name": "python3"
  },
  "language_info": {
   "codemirror_mode": {
    "name": "ipython",
    "version": 3
   },
   "file_extension": ".py",
   "mimetype": "text/x-python",
   "name": "python",
   "nbconvert_exporter": "python",
   "pygments_lexer": "ipython3",
   "version": "3.9.7"
  },
  "papermill": {
   "duration": 15.194155,
   "end_time": "2022-05-05T13:20:15.136329",
   "environment_variables": {},
   "exception": null,
   "input_path": "__notebook__.ipynb",
   "output_path": "__notebook__.ipynb",
   "parameters": {},
   "start_time": "2022-05-05T13:19:59.942174",
   "version": "2.1.0"
  }
 },
 "nbformat": 4,
 "nbformat_minor": 4
}
